{
 "cells": [
  {
   "cell_type": "code",
   "execution_count": 3,
   "metadata": {},
   "outputs": [
    {
     "name": "stderr",
     "output_type": "stream",
     "text": [
      "/home/suyash/anaconda3/envs/Pytorch/lib/python3.9/site-packages/tqdm/auto.py:22: TqdmWarning: IProgress not found. Please update jupyter and ipywidgets. See https://ipywidgets.readthedocs.io/en/stable/user_install.html\n",
      "  from .autonotebook import tqdm as notebook_tqdm\n"
     ]
    }
   ],
   "source": [
    "import pandas as pd \n",
    "import chardet\n",
    "import matplotlib.pyplot as plt \n",
    "import cld3\n",
    "import re \n",
    "import unicodedata\n",
    "import string\n",
    "import cld3\n",
    "import gensim\n",
    "import torch \n",
    "from transformers import BertModel\n",
    "from transformers import BertTokenizerFast\n",
    "import numpy as np"
   ]
  },
  {
   "cell_type": "code",
   "execution_count": 31,
   "metadata": {},
   "outputs": [],
   "source": [
    "df=pd.read_csv('/home/suyash/Desktop/Tweets/Preprocessing/sample.csv')"
   ]
  },
  {
   "cell_type": "code",
   "execution_count": 32,
   "metadata": {},
   "outputs": [
    {
     "data": {
      "text/html": [
       "<div>\n",
       "<style scoped>\n",
       "    .dataframe tbody tr th:only-of-type {\n",
       "        vertical-align: middle;\n",
       "    }\n",
       "\n",
       "    .dataframe tbody tr th {\n",
       "        vertical-align: top;\n",
       "    }\n",
       "\n",
       "    .dataframe thead th {\n",
       "        text-align: right;\n",
       "    }\n",
       "</style>\n",
       "<table border=\"1\" class=\"dataframe\">\n",
       "  <thead>\n",
       "    <tr style=\"text-align: right;\">\n",
       "      <th></th>\n",
       "      <th>Unnamed: 0</th>\n",
       "      <th>index</th>\n",
       "      <th>target</th>\n",
       "      <th>ids</th>\n",
       "      <th>date</th>\n",
       "      <th>flag</th>\n",
       "      <th>user</th>\n",
       "      <th>text</th>\n",
       "    </tr>\n",
       "  </thead>\n",
       "  <tbody>\n",
       "    <tr>\n",
       "      <th>0</th>\n",
       "      <td>0</td>\n",
       "      <td>514293</td>\n",
       "      <td>0</td>\n",
       "      <td>2190584004</td>\n",
       "      <td>Tue Jun 16 03:08:48 PDT 2009</td>\n",
       "      <td>NO_QUERY</td>\n",
       "      <td>Vicki_Gee</td>\n",
       "      <td>i miss nikki nu nu already  shes always there ...</td>\n",
       "    </tr>\n",
       "    <tr>\n",
       "      <th>1</th>\n",
       "      <td>1</td>\n",
       "      <td>142282</td>\n",
       "      <td>0</td>\n",
       "      <td>1881451988</td>\n",
       "      <td>Fri May 22 04:42:15 PDT 2009</td>\n",
       "      <td>NO_QUERY</td>\n",
       "      <td>PatCashin</td>\n",
       "      <td>So I had a dream last night. I  remember a sig...</td>\n",
       "    </tr>\n",
       "    <tr>\n",
       "      <th>2</th>\n",
       "      <td>2</td>\n",
       "      <td>403727</td>\n",
       "      <td>0</td>\n",
       "      <td>2058252964</td>\n",
       "      <td>Sat Jun 06 14:34:17 PDT 2009</td>\n",
       "      <td>NO_QUERY</td>\n",
       "      <td>deelectable</td>\n",
       "      <td>@girlyghost ohh poor sickly you   (((hugs)) ho...</td>\n",
       "    </tr>\n",
       "    <tr>\n",
       "      <th>3</th>\n",
       "      <td>3</td>\n",
       "      <td>649503</td>\n",
       "      <td>0</td>\n",
       "      <td>2237307600</td>\n",
       "      <td>Fri Jun 19 05:34:22 PDT 2009</td>\n",
       "      <td>NO_QUERY</td>\n",
       "      <td>justinekepa</td>\n",
       "      <td>it is raining again</td>\n",
       "    </tr>\n",
       "    <tr>\n",
       "      <th>4</th>\n",
       "      <td>4</td>\n",
       "      <td>610789</td>\n",
       "      <td>0</td>\n",
       "      <td>2224301193</td>\n",
       "      <td>Thu Jun 18 09:20:06 PDT 2009</td>\n",
       "      <td>NO_QUERY</td>\n",
       "      <td>cmatt007</td>\n",
       "      <td>@MissKeriBaby wish I was in LA right now</td>\n",
       "    </tr>\n",
       "    <tr>\n",
       "      <th>5</th>\n",
       "      <td>5</td>\n",
       "      <td>67315</td>\n",
       "      <td>0</td>\n",
       "      <td>1692257495</td>\n",
       "      <td>Sun May 03 19:36:35 PDT 2009</td>\n",
       "      <td>NO_QUERY</td>\n",
       "      <td>Dogbook</td>\n",
       "      <td>Nala Olowalu still has a full tummy from bread...</td>\n",
       "    </tr>\n",
       "    <tr>\n",
       "      <th>6</th>\n",
       "      <td>6</td>\n",
       "      <td>833521</td>\n",
       "      <td>4</td>\n",
       "      <td>1557782222</td>\n",
       "      <td>Sun Apr 19 05:58:52 PDT 2009</td>\n",
       "      <td>NO_QUERY</td>\n",
       "      <td>MyAppleStuff</td>\n",
       "      <td>@macintom site doesn't seem to want to load up...</td>\n",
       "    </tr>\n",
       "    <tr>\n",
       "      <th>7</th>\n",
       "      <td>7</td>\n",
       "      <td>256032</td>\n",
       "      <td>0</td>\n",
       "      <td>1984628467</td>\n",
       "      <td>Sun May 31 15:29:11 PDT 2009</td>\n",
       "      <td>NO_QUERY</td>\n",
       "      <td>AlexCarrier</td>\n",
       "      <td>time for some sleep- hav to actually do some w...</td>\n",
       "    </tr>\n",
       "    <tr>\n",
       "      <th>8</th>\n",
       "      <td>8</td>\n",
       "      <td>657012</td>\n",
       "      <td>0</td>\n",
       "      <td>2240793149</td>\n",
       "      <td>Fri Jun 19 10:10:09 PDT 2009</td>\n",
       "      <td>NO_QUERY</td>\n",
       "      <td>simonhowes</td>\n",
       "      <td>@supercoolkp In Oxford that month.</td>\n",
       "    </tr>\n",
       "    <tr>\n",
       "      <th>9</th>\n",
       "      <td>9</td>\n",
       "      <td>980587</td>\n",
       "      <td>4</td>\n",
       "      <td>1834037031</td>\n",
       "      <td>Mon May 18 01:23:05 PDT 2009</td>\n",
       "      <td>NO_QUERY</td>\n",
       "      <td>Sofuce</td>\n",
       "      <td>..time for a cup of tea and fruit bagels, i'm ...</td>\n",
       "    </tr>\n",
       "  </tbody>\n",
       "</table>\n",
       "</div>"
      ],
      "text/plain": [
       "   Unnamed: 0   index  target         ids                          date  \\\n",
       "0           0  514293       0  2190584004  Tue Jun 16 03:08:48 PDT 2009   \n",
       "1           1  142282       0  1881451988  Fri May 22 04:42:15 PDT 2009   \n",
       "2           2  403727       0  2058252964  Sat Jun 06 14:34:17 PDT 2009   \n",
       "3           3  649503       0  2237307600  Fri Jun 19 05:34:22 PDT 2009   \n",
       "4           4  610789       0  2224301193  Thu Jun 18 09:20:06 PDT 2009   \n",
       "5           5   67315       0  1692257495  Sun May 03 19:36:35 PDT 2009   \n",
       "6           6  833521       4  1557782222  Sun Apr 19 05:58:52 PDT 2009   \n",
       "7           7  256032       0  1984628467  Sun May 31 15:29:11 PDT 2009   \n",
       "8           8  657012       0  2240793149  Fri Jun 19 10:10:09 PDT 2009   \n",
       "9           9  980587       4  1834037031  Mon May 18 01:23:05 PDT 2009   \n",
       "\n",
       "       flag          user                                               text  \n",
       "0  NO_QUERY     Vicki_Gee  i miss nikki nu nu already  shes always there ...  \n",
       "1  NO_QUERY     PatCashin  So I had a dream last night. I  remember a sig...  \n",
       "2  NO_QUERY   deelectable  @girlyghost ohh poor sickly you   (((hugs)) ho...  \n",
       "3  NO_QUERY   justinekepa                               it is raining again   \n",
       "4  NO_QUERY      cmatt007          @MissKeriBaby wish I was in LA right now   \n",
       "5  NO_QUERY       Dogbook  Nala Olowalu still has a full tummy from bread...  \n",
       "6  NO_QUERY  MyAppleStuff  @macintom site doesn't seem to want to load up...  \n",
       "7  NO_QUERY   AlexCarrier  time for some sleep- hav to actually do some w...  \n",
       "8  NO_QUERY    simonhowes               @supercoolkp In Oxford that month.    \n",
       "9  NO_QUERY        Sofuce  ..time for a cup of tea and fruit bagels, i'm ...  "
      ]
     },
     "execution_count": 32,
     "metadata": {},
     "output_type": "execute_result"
    }
   ],
   "source": [
    "df.head(10)"
   ]
  },
  {
   "cell_type": "code",
   "execution_count": 33,
   "metadata": {},
   "outputs": [
    {
     "data": {
      "text/plain": [
       "0        i miss nikki nu nu already  shes always there ...\n",
       "1        So I had a dream last night. I  remember a sig...\n",
       "2        @girlyghost ohh poor sickly you   (((hugs)) ho...\n",
       "3                                     it is raining again \n",
       "4                @MissKeriBaby wish I was in LA right now \n",
       "                               ...                        \n",
       "19995    I get the worst writer's cramp. These thank yo...\n",
       "19996          @ladyinreddress the sun is all gone now... \n",
       "19997    FINALLY a break till Wed, no work OR school, b...\n",
       "19998                              I want a Blackberry... \n",
       "19999    in montrea doing some much needed ocean swimmi...\n",
       "Name: text, Length: 20000, dtype: object"
      ]
     },
     "execution_count": 33,
     "metadata": {},
     "output_type": "execute_result"
    }
   ],
   "source": [
    "df.text"
   ]
  },
  {
   "cell_type": "code",
   "execution_count": 34,
   "metadata": {},
   "outputs": [],
   "source": [
    "ALL_LETTERS=string.ascii_letters+\" .,;'\"\n",
    "N_LETTERS=len(ALL_LETTERS)"
   ]
  },
  {
   "cell_type": "code",
   "execution_count": 35,
   "metadata": {},
   "outputs": [],
   "source": [
    "def unicode_to_ascii(s):\n",
    "    return ''.join(c for c in unicodedata.normalize('NFD',s)\n",
    "                   if unicodedata.category(c)!='Mn'\n",
    "                   and c in ALL_LETTERS\n",
    "                   )"
   ]
  },
  {
   "cell_type": "code",
   "execution_count": 36,
   "metadata": {},
   "outputs": [
    {
     "name": "stderr",
     "output_type": "stream",
     "text": [
      "/tmp/ipykernel_16995/3986324385.py:10: SettingWithCopyWarning: \n",
      "A value is trying to be set on a copy of a slice from a DataFrame\n",
      "\n",
      "See the caveats in the documentation: https://pandas.pydata.org/pandas-docs/stable/user_guide/indexing.html#returning-a-view-versus-a-copy\n",
      "  df.text[i]=' '.join(string)\n"
     ]
    }
   ],
   "source": [
    "#converting all letters to acii ]\n",
    "for i in range(len(df)):\n",
    "    text=df.text[i].split()\n",
    "    string=[]\n",
    "    for words in text:\n",
    "        words=unicode_to_ascii(words)\n",
    "        words=words.lower()\n",
    "        string.append(words)\n",
    "\n",
    "    df.text[i]=' '.join(string)\n",
    "\n",
    "    \n",
    "\n"
   ]
  },
  {
   "cell_type": "code",
   "execution_count": 37,
   "metadata": {},
   "outputs": [
    {
     "data": {
      "text/html": [
       "<div>\n",
       "<style scoped>\n",
       "    .dataframe tbody tr th:only-of-type {\n",
       "        vertical-align: middle;\n",
       "    }\n",
       "\n",
       "    .dataframe tbody tr th {\n",
       "        vertical-align: top;\n",
       "    }\n",
       "\n",
       "    .dataframe thead th {\n",
       "        text-align: right;\n",
       "    }\n",
       "</style>\n",
       "<table border=\"1\" class=\"dataframe\">\n",
       "  <thead>\n",
       "    <tr style=\"text-align: right;\">\n",
       "      <th></th>\n",
       "      <th>Unnamed: 0</th>\n",
       "      <th>index</th>\n",
       "      <th>target</th>\n",
       "      <th>ids</th>\n",
       "      <th>date</th>\n",
       "      <th>flag</th>\n",
       "      <th>user</th>\n",
       "      <th>text</th>\n",
       "    </tr>\n",
       "  </thead>\n",
       "  <tbody>\n",
       "    <tr>\n",
       "      <th>0</th>\n",
       "      <td>0</td>\n",
       "      <td>514293</td>\n",
       "      <td>0</td>\n",
       "      <td>2190584004</td>\n",
       "      <td>Tue Jun 16 03:08:48 PDT 2009</td>\n",
       "      <td>NO_QUERY</td>\n",
       "      <td>Vicki_Gee</td>\n",
       "      <td>i miss nikki nu nu already shes always there w...</td>\n",
       "    </tr>\n",
       "    <tr>\n",
       "      <th>1</th>\n",
       "      <td>1</td>\n",
       "      <td>142282</td>\n",
       "      <td>0</td>\n",
       "      <td>1881451988</td>\n",
       "      <td>Fri May 22 04:42:15 PDT 2009</td>\n",
       "      <td>NO_QUERY</td>\n",
       "      <td>PatCashin</td>\n",
       "      <td>so i had a dream last night. i remember a sign...</td>\n",
       "    </tr>\n",
       "    <tr>\n",
       "      <th>2</th>\n",
       "      <td>2</td>\n",
       "      <td>403727</td>\n",
       "      <td>0</td>\n",
       "      <td>2058252964</td>\n",
       "      <td>Sat Jun 06 14:34:17 PDT 2009</td>\n",
       "      <td>NO_QUERY</td>\n",
       "      <td>deelectable</td>\n",
       "      <td>girlyghost ohh poor sickly you hugs hope you f...</td>\n",
       "    </tr>\n",
       "    <tr>\n",
       "      <th>3</th>\n",
       "      <td>3</td>\n",
       "      <td>649503</td>\n",
       "      <td>0</td>\n",
       "      <td>2237307600</td>\n",
       "      <td>Fri Jun 19 05:34:22 PDT 2009</td>\n",
       "      <td>NO_QUERY</td>\n",
       "      <td>justinekepa</td>\n",
       "      <td>it is raining again</td>\n",
       "    </tr>\n",
       "    <tr>\n",
       "      <th>4</th>\n",
       "      <td>4</td>\n",
       "      <td>610789</td>\n",
       "      <td>0</td>\n",
       "      <td>2224301193</td>\n",
       "      <td>Thu Jun 18 09:20:06 PDT 2009</td>\n",
       "      <td>NO_QUERY</td>\n",
       "      <td>cmatt007</td>\n",
       "      <td>misskeribaby wish i was in la right now</td>\n",
       "    </tr>\n",
       "    <tr>\n",
       "      <th>5</th>\n",
       "      <td>5</td>\n",
       "      <td>67315</td>\n",
       "      <td>0</td>\n",
       "      <td>1692257495</td>\n",
       "      <td>Sun May 03 19:36:35 PDT 2009</td>\n",
       "      <td>NO_QUERY</td>\n",
       "      <td>Dogbook</td>\n",
       "      <td>nala olowalu still has a full tummy from bread...</td>\n",
       "    </tr>\n",
       "    <tr>\n",
       "      <th>6</th>\n",
       "      <td>6</td>\n",
       "      <td>833521</td>\n",
       "      <td>4</td>\n",
       "      <td>1557782222</td>\n",
       "      <td>Sun Apr 19 05:58:52 PDT 2009</td>\n",
       "      <td>NO_QUERY</td>\n",
       "      <td>MyAppleStuff</td>\n",
       "      <td>macintom site doesn't seem to want to load up,...</td>\n",
       "    </tr>\n",
       "    <tr>\n",
       "      <th>7</th>\n",
       "      <td>7</td>\n",
       "      <td>256032</td>\n",
       "      <td>0</td>\n",
       "      <td>1984628467</td>\n",
       "      <td>Sun May 31 15:29:11 PDT 2009</td>\n",
       "      <td>NO_QUERY</td>\n",
       "      <td>AlexCarrier</td>\n",
       "      <td>time for some sleep hav to actually do some wo...</td>\n",
       "    </tr>\n",
       "    <tr>\n",
       "      <th>8</th>\n",
       "      <td>8</td>\n",
       "      <td>657012</td>\n",
       "      <td>0</td>\n",
       "      <td>2240793149</td>\n",
       "      <td>Fri Jun 19 10:10:09 PDT 2009</td>\n",
       "      <td>NO_QUERY</td>\n",
       "      <td>simonhowes</td>\n",
       "      <td>supercoolkp in oxford that month.</td>\n",
       "    </tr>\n",
       "    <tr>\n",
       "      <th>9</th>\n",
       "      <td>9</td>\n",
       "      <td>980587</td>\n",
       "      <td>4</td>\n",
       "      <td>1834037031</td>\n",
       "      <td>Mon May 18 01:23:05 PDT 2009</td>\n",
       "      <td>NO_QUERY</td>\n",
       "      <td>Sofuce</td>\n",
       "      <td>..time for a cup of tea and fruit bagels, i'm ...</td>\n",
       "    </tr>\n",
       "  </tbody>\n",
       "</table>\n",
       "</div>"
      ],
      "text/plain": [
       "   Unnamed: 0   index  target         ids                          date  \\\n",
       "0           0  514293       0  2190584004  Tue Jun 16 03:08:48 PDT 2009   \n",
       "1           1  142282       0  1881451988  Fri May 22 04:42:15 PDT 2009   \n",
       "2           2  403727       0  2058252964  Sat Jun 06 14:34:17 PDT 2009   \n",
       "3           3  649503       0  2237307600  Fri Jun 19 05:34:22 PDT 2009   \n",
       "4           4  610789       0  2224301193  Thu Jun 18 09:20:06 PDT 2009   \n",
       "5           5   67315       0  1692257495  Sun May 03 19:36:35 PDT 2009   \n",
       "6           6  833521       4  1557782222  Sun Apr 19 05:58:52 PDT 2009   \n",
       "7           7  256032       0  1984628467  Sun May 31 15:29:11 PDT 2009   \n",
       "8           8  657012       0  2240793149  Fri Jun 19 10:10:09 PDT 2009   \n",
       "9           9  980587       4  1834037031  Mon May 18 01:23:05 PDT 2009   \n",
       "\n",
       "       flag          user                                               text  \n",
       "0  NO_QUERY     Vicki_Gee  i miss nikki nu nu already shes always there w...  \n",
       "1  NO_QUERY     PatCashin  so i had a dream last night. i remember a sign...  \n",
       "2  NO_QUERY   deelectable  girlyghost ohh poor sickly you hugs hope you f...  \n",
       "3  NO_QUERY   justinekepa                                it is raining again  \n",
       "4  NO_QUERY      cmatt007            misskeribaby wish i was in la right now  \n",
       "5  NO_QUERY       Dogbook  nala olowalu still has a full tummy from bread...  \n",
       "6  NO_QUERY  MyAppleStuff  macintom site doesn't seem to want to load up,...  \n",
       "7  NO_QUERY   AlexCarrier  time for some sleep hav to actually do some wo...  \n",
       "8  NO_QUERY    simonhowes                  supercoolkp in oxford that month.  \n",
       "9  NO_QUERY        Sofuce  ..time for a cup of tea and fruit bagels, i'm ...  "
      ]
     },
     "execution_count": 37,
     "metadata": {},
     "output_type": "execute_result"
    }
   ],
   "source": [
    "df.head(10)"
   ]
  },
  {
   "cell_type": "code",
   "execution_count": 38,
   "metadata": {},
   "outputs": [
    {
     "name": "stderr",
     "output_type": "stream",
     "text": [
      "/tmp/ipykernel_16995/1551427966.py:2: SettingWithCopyWarning: \n",
      "A value is trying to be set on a copy of a slice from a DataFrame\n",
      "\n",
      "See the caveats in the documentation: https://pandas.pydata.org/pandas-docs/stable/user_guide/indexing.html#returning-a-view-versus-a-copy\n",
      "  df.text[i]=re.sub(r\"\\S*https?:\\S*\",\" \",df.text[i])\n",
      "/tmp/ipykernel_16995/1551427966.py:3: SettingWithCopyWarning: \n",
      "A value is trying to be set on a copy of a slice from a DataFrame\n",
      "\n",
      "See the caveats in the documentation: https://pandas.pydata.org/pandas-docs/stable/user_guide/indexing.html#returning-a-view-versus-a-copy\n",
      "  df.text[i]=re.sub(r\"[^a-zA-Z0-9]\",\" \",df.text[i])\n"
     ]
    }
   ],
   "source": [
    "for i in range(len(df)):\n",
    "    df.text[i]=re.sub(r\"\\S*https?:\\S*\",\" \",df.text[i])\n",
    "    df.text[i]=re.sub(r\"[^a-zA-Z0-9]\",\" \",df.text[i])\n",
    "\n"
   ]
  },
  {
   "cell_type": "code",
   "execution_count": 39,
   "metadata": {},
   "outputs": [
    {
     "data": {
      "text/html": [
       "<div>\n",
       "<style scoped>\n",
       "    .dataframe tbody tr th:only-of-type {\n",
       "        vertical-align: middle;\n",
       "    }\n",
       "\n",
       "    .dataframe tbody tr th {\n",
       "        vertical-align: top;\n",
       "    }\n",
       "\n",
       "    .dataframe thead th {\n",
       "        text-align: right;\n",
       "    }\n",
       "</style>\n",
       "<table border=\"1\" class=\"dataframe\">\n",
       "  <thead>\n",
       "    <tr style=\"text-align: right;\">\n",
       "      <th></th>\n",
       "      <th>Unnamed: 0</th>\n",
       "      <th>index</th>\n",
       "      <th>target</th>\n",
       "      <th>ids</th>\n",
       "      <th>date</th>\n",
       "      <th>flag</th>\n",
       "      <th>user</th>\n",
       "      <th>text</th>\n",
       "    </tr>\n",
       "  </thead>\n",
       "  <tbody>\n",
       "    <tr>\n",
       "      <th>0</th>\n",
       "      <td>0</td>\n",
       "      <td>514293</td>\n",
       "      <td>0</td>\n",
       "      <td>2190584004</td>\n",
       "      <td>Tue Jun 16 03:08:48 PDT 2009</td>\n",
       "      <td>NO_QUERY</td>\n",
       "      <td>Vicki_Gee</td>\n",
       "      <td>i miss nikki nu nu already shes always there w...</td>\n",
       "    </tr>\n",
       "    <tr>\n",
       "      <th>1</th>\n",
       "      <td>1</td>\n",
       "      <td>142282</td>\n",
       "      <td>0</td>\n",
       "      <td>1881451988</td>\n",
       "      <td>Fri May 22 04:42:15 PDT 2009</td>\n",
       "      <td>NO_QUERY</td>\n",
       "      <td>PatCashin</td>\n",
       "      <td>so i had a dream last night  i remember a sign...</td>\n",
       "    </tr>\n",
       "    <tr>\n",
       "      <th>2</th>\n",
       "      <td>2</td>\n",
       "      <td>403727</td>\n",
       "      <td>0</td>\n",
       "      <td>2058252964</td>\n",
       "      <td>Sat Jun 06 14:34:17 PDT 2009</td>\n",
       "      <td>NO_QUERY</td>\n",
       "      <td>deelectable</td>\n",
       "      <td>girlyghost ohh poor sickly you hugs hope you f...</td>\n",
       "    </tr>\n",
       "    <tr>\n",
       "      <th>3</th>\n",
       "      <td>3</td>\n",
       "      <td>649503</td>\n",
       "      <td>0</td>\n",
       "      <td>2237307600</td>\n",
       "      <td>Fri Jun 19 05:34:22 PDT 2009</td>\n",
       "      <td>NO_QUERY</td>\n",
       "      <td>justinekepa</td>\n",
       "      <td>it is raining again</td>\n",
       "    </tr>\n",
       "    <tr>\n",
       "      <th>4</th>\n",
       "      <td>4</td>\n",
       "      <td>610789</td>\n",
       "      <td>0</td>\n",
       "      <td>2224301193</td>\n",
       "      <td>Thu Jun 18 09:20:06 PDT 2009</td>\n",
       "      <td>NO_QUERY</td>\n",
       "      <td>cmatt007</td>\n",
       "      <td>misskeribaby wish i was in la right now</td>\n",
       "    </tr>\n",
       "    <tr>\n",
       "      <th>5</th>\n",
       "      <td>5</td>\n",
       "      <td>67315</td>\n",
       "      <td>0</td>\n",
       "      <td>1692257495</td>\n",
       "      <td>Sun May 03 19:36:35 PDT 2009</td>\n",
       "      <td>NO_QUERY</td>\n",
       "      <td>Dogbook</td>\n",
       "      <td>nala olowalu still has a full tummy from bread...</td>\n",
       "    </tr>\n",
       "    <tr>\n",
       "      <th>6</th>\n",
       "      <td>6</td>\n",
       "      <td>833521</td>\n",
       "      <td>4</td>\n",
       "      <td>1557782222</td>\n",
       "      <td>Sun Apr 19 05:58:52 PDT 2009</td>\n",
       "      <td>NO_QUERY</td>\n",
       "      <td>MyAppleStuff</td>\n",
       "      <td>macintom site doesn t seem to want to load up ...</td>\n",
       "    </tr>\n",
       "    <tr>\n",
       "      <th>7</th>\n",
       "      <td>7</td>\n",
       "      <td>256032</td>\n",
       "      <td>0</td>\n",
       "      <td>1984628467</td>\n",
       "      <td>Sun May 31 15:29:11 PDT 2009</td>\n",
       "      <td>NO_QUERY</td>\n",
       "      <td>AlexCarrier</td>\n",
       "      <td>time for some sleep hav to actually do some wo...</td>\n",
       "    </tr>\n",
       "    <tr>\n",
       "      <th>8</th>\n",
       "      <td>8</td>\n",
       "      <td>657012</td>\n",
       "      <td>0</td>\n",
       "      <td>2240793149</td>\n",
       "      <td>Fri Jun 19 10:10:09 PDT 2009</td>\n",
       "      <td>NO_QUERY</td>\n",
       "      <td>simonhowes</td>\n",
       "      <td>supercoolkp in oxford that month</td>\n",
       "    </tr>\n",
       "    <tr>\n",
       "      <th>9</th>\n",
       "      <td>9</td>\n",
       "      <td>980587</td>\n",
       "      <td>4</td>\n",
       "      <td>1834037031</td>\n",
       "      <td>Mon May 18 01:23:05 PDT 2009</td>\n",
       "      <td>NO_QUERY</td>\n",
       "      <td>Sofuce</td>\n",
       "      <td>time for a cup of tea and fruit bagels  i m ...</td>\n",
       "    </tr>\n",
       "  </tbody>\n",
       "</table>\n",
       "</div>"
      ],
      "text/plain": [
       "   Unnamed: 0   index  target         ids                          date  \\\n",
       "0           0  514293       0  2190584004  Tue Jun 16 03:08:48 PDT 2009   \n",
       "1           1  142282       0  1881451988  Fri May 22 04:42:15 PDT 2009   \n",
       "2           2  403727       0  2058252964  Sat Jun 06 14:34:17 PDT 2009   \n",
       "3           3  649503       0  2237307600  Fri Jun 19 05:34:22 PDT 2009   \n",
       "4           4  610789       0  2224301193  Thu Jun 18 09:20:06 PDT 2009   \n",
       "5           5   67315       0  1692257495  Sun May 03 19:36:35 PDT 2009   \n",
       "6           6  833521       4  1557782222  Sun Apr 19 05:58:52 PDT 2009   \n",
       "7           7  256032       0  1984628467  Sun May 31 15:29:11 PDT 2009   \n",
       "8           8  657012       0  2240793149  Fri Jun 19 10:10:09 PDT 2009   \n",
       "9           9  980587       4  1834037031  Mon May 18 01:23:05 PDT 2009   \n",
       "\n",
       "       flag          user                                               text  \n",
       "0  NO_QUERY     Vicki_Gee  i miss nikki nu nu already shes always there w...  \n",
       "1  NO_QUERY     PatCashin  so i had a dream last night  i remember a sign...  \n",
       "2  NO_QUERY   deelectable  girlyghost ohh poor sickly you hugs hope you f...  \n",
       "3  NO_QUERY   justinekepa                                it is raining again  \n",
       "4  NO_QUERY      cmatt007            misskeribaby wish i was in la right now  \n",
       "5  NO_QUERY       Dogbook  nala olowalu still has a full tummy from bread...  \n",
       "6  NO_QUERY  MyAppleStuff  macintom site doesn t seem to want to load up ...  \n",
       "7  NO_QUERY   AlexCarrier  time for some sleep hav to actually do some wo...  \n",
       "8  NO_QUERY    simonhowes                  supercoolkp in oxford that month   \n",
       "9  NO_QUERY        Sofuce    time for a cup of tea and fruit bagels  i m ...  "
      ]
     },
     "execution_count": 39,
     "metadata": {},
     "output_type": "execute_result"
    }
   ],
   "source": [
    "df.head(10)"
   ]
  },
  {
   "cell_type": "code",
   "execution_count": 55,
   "metadata": {},
   "outputs": [],
   "source": [
    "tokenizer=BertTokenizerFast.from_pretrained(\"setu4993/LaBSE\")\n",
    "model=BertModel.from_pretrained(\"setu4993/LaBSE\")"
   ]
  },
  {
   "cell_type": "code",
   "execution_count": 56,
   "metadata": {},
   "outputs": [],
   "source": [
    "device=torch.device(\"cuda\")"
   ]
  },
  {
   "cell_type": "code",
   "execution_count": 57,
   "metadata": {},
   "outputs": [],
   "source": [
    "#class for dataloader \n",
    "from torch.utils.data.dataloader import default_collate\n",
    "class NaiveDataLoader:\n",
    "    def __init__(self, dataset, batch_size=64, collate_fn=default_collate):\n",
    "        self.dataset = dataset\n",
    "        self.batch_size = batch_size\n",
    "        self.collate_fn = collate_fn\n",
    "        self.index = 0\n",
    "    def __iter__(self):\n",
    "        self.index = 0\n",
    "        return self\n",
    "\n",
    "    def __next__(self):\n",
    "        if self.index >= len(self.dataset):\n",
    "            # stop iteration once index is out of bounds\n",
    "            raise StopIteration\n",
    "        batch_size = min(len(self.dataset) - self.index, self.batch_size)\n",
    "        return self.collate_fn([self.get() for _ in range(batch_size)])\n",
    "\n",
    "    def get(self):\n",
    "        item = self.dataset[self.index]\n",
    "        self.index += 1\n",
    "        return item"
   ]
  },
  {
   "cell_type": "code",
   "execution_count": 58,
   "metadata": {},
   "outputs": [],
   "source": [
    "corpus=[df.text[i] for i in range(len(df))]"
   ]
  },
  {
   "cell_type": "code",
   "execution_count": 59,
   "metadata": {},
   "outputs": [],
   "source": [
    "corpus_loader=NaiveDataLoader(corpus,batch_size=500)"
   ]
  },
  {
   "cell_type": "code",
   "execution_count": 62,
   "metadata": {},
   "outputs": [],
   "source": [
    "output_embedings=torch.tensor([]).to(device)"
   ]
  },
  {
   "cell_type": "code",
   "execution_count": 63,
   "metadata": {},
   "outputs": [],
   "source": [
    "for text in corpus_loader:\n",
    "  input=tokenizer(text, return_tensors=\"pt\", padding=True)\n",
    "  input_ids=input.input_ids.clone().detach()\n",
    "  token_type_ids=input.token_type_ids.clone().detach()\n",
    "  attention_mask=input.attention_mask.clone().detach()\n",
    "  input_ids=input_ids.to(device)\n",
    "  token_type_ids=token_type_ids.to(device)\n",
    "  attention_mask=attention_mask.to(device)\n",
    "  model=model.to(device)\n",
    "  with torch.no_grad():\n",
    "    output=model(input_ids,token_type_ids,attention_mask)\n",
    "    output_embedings=torch.cat((output_embedings,output.pooler_output))\n",
    "    torch.cuda.empty_cache()\n",
    "  with torch.no_grad():\n",
    "    torch.cuda.empty_cache()"
   ]
  },
  {
   "cell_type": "code",
   "execution_count": 64,
   "metadata": {},
   "outputs": [
    {
     "data": {
      "text/plain": [
       "torch.Size([20000, 768])"
      ]
     },
     "execution_count": 64,
     "metadata": {},
     "output_type": "execute_result"
    }
   ],
   "source": [
    "output_embedings.shape"
   ]
  },
  {
   "cell_type": "code",
   "execution_count": 65,
   "metadata": {},
   "outputs": [],
   "source": [
    "torch.save(output_embedings,\"embedings.pt\")"
   ]
  },
  {
   "cell_type": "code",
   "execution_count": 72,
   "metadata": {},
   "outputs": [],
   "source": [
    "labels=np.array(df.target)"
   ]
  },
  {
   "cell_type": "code",
   "execution_count": 73,
   "metadata": {},
   "outputs": [],
   "source": [
    "labels_tensor=torch.from_numpy(labels)"
   ]
  },
  {
   "cell_type": "code",
   "execution_count": 74,
   "metadata": {},
   "outputs": [],
   "source": [
    "torch.save(labels_tensor,\";labels.pt\")"
   ]
  },
  {
   "cell_type": "code",
   "execution_count": 4,
   "metadata": {},
   "outputs": [],
   "source": [
    "X=torch.load('embedings.pt')"
   ]
  },
  {
   "cell_type": "code",
   "execution_count": 7,
   "metadata": {},
   "outputs": [
    {
     "data": {
      "text/plain": [
       "tensor(0.9651, device='cuda:0')"
      ]
     },
     "execution_count": 7,
     "metadata": {},
     "output_type": "execute_result"
    }
   ],
   "source": [
    "torch.max(X[0])"
   ]
  },
  {
   "cell_type": "code",
   "execution_count": null,
   "metadata": {},
   "outputs": [],
   "source": []
  }
 ],
 "metadata": {
  "kernelspec": {
   "display_name": "Pytorch",
   "language": "python",
   "name": "python3"
  },
  "language_info": {
   "codemirror_mode": {
    "name": "ipython",
    "version": 3
   },
   "file_extension": ".py",
   "mimetype": "text/x-python",
   "name": "python",
   "nbconvert_exporter": "python",
   "pygments_lexer": "ipython3",
   "version": "3.9.13"
  },
  "orig_nbformat": 4,
  "vscode": {
   "interpreter": {
    "hash": "9a397443b71309b1768ecb77ab7e5ac6125ad4f87dc465dbb03c6294e84f7f41"
   }
  }
 },
 "nbformat": 4,
 "nbformat_minor": 2
}
